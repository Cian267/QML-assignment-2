{
 "cells": [
  {
   "cell_type": "code",
   "execution_count": 16,
   "metadata": {},
   "outputs": [
    {
     "ename": "AttributeError",
     "evalue": "'list' object has no attribute 'split'",
     "output_type": "error",
     "traceback": [
      "\u001b[1;31m---------------------------------------------------------------------------\u001b[0m",
      "\u001b[1;31mAttributeError\u001b[0m                            Traceback (most recent call last)",
      "\u001b[1;32mc:\\Users\\gwabe\\Documents\\GitHub\\QML-assignment-2\\test_python_file.ipynb Cell 1\u001b[0m line \u001b[0;36m1\n\u001b[0;32m     <a href='vscode-notebook-cell:/c%3A/Users/gwabe/Documents/GitHub/QML-assignment-2/test_python_file.ipynb#W1sZmlsZQ%3D%3D?line=15'>16</a>\u001b[0m \u001b[39mfor\u001b[39;00m line \u001b[39min\u001b[39;00m data:\n\u001b[0;32m     <a href='vscode-notebook-cell:/c%3A/Users/gwabe/Documents/GitHub/QML-assignment-2/test_python_file.ipynb#W1sZmlsZQ%3D%3D?line=16'>17</a>\u001b[0m     i\u001b[39m=\u001b[39mi\u001b[39m+\u001b[39m\u001b[39m1\u001b[39m\n\u001b[1;32m---> <a href='vscode-notebook-cell:/c%3A/Users/gwabe/Documents/GitHub/QML-assignment-2/test_python_file.ipynb#W1sZmlsZQ%3D%3D?line=17'>18</a>\u001b[0m     words \u001b[39m=\u001b[39m line\u001b[39m.\u001b[39msplit()\n\u001b[0;32m     <a href='vscode-notebook-cell:/c%3A/Users/gwabe/Documents/GitHub/QML-assignment-2/test_python_file.ipynb#W1sZmlsZQ%3D%3D?line=18'>19</a>\u001b[0m     words\u001b[39m=\u001b[39m[\u001b[39mint\u001b[39m(i) \u001b[39mfor\u001b[39;00m i \u001b[39min\u001b[39;00m words]           \u001b[39m# Covert data from string to integer\u001b[39;00m\n\u001b[0;32m     <a href='vscode-notebook-cell:/c%3A/Users/gwabe/Documents/GitHub/QML-assignment-2/test_python_file.ipynb#W1sZmlsZQ%3D%3D?line=19'>20</a>\u001b[0m     VRP\u001b[39m.\u001b[39mappend(words)                       \u001b[39m# Store node data\u001b[39;00m\n",
      "\u001b[1;31mAttributeError\u001b[0m: 'list' object has no attribute 'split'"
     ]
    }
   ],
   "source": [
    "\n",
    "import gurobipy as gp\n",
    "from gurobipy import *\n",
    "import numpy as np\n",
    "import math\n",
    "import copy\n",
    "import pandas as pd\n",
    "import matplotlib.pyplot as plt\n",
    "\n",
    "# Model\n",
    "file_path = \"https://raw.githubusercontent.com/Cian267/QML-assignment-2/main/Data_files/data_small.txt\"\n",
    "file = pd.read_csv(file_path)\n",
    "data = file.values.tolist()\n",
    "\n",
    "\n",
    "\n",
    "\n"
   ]
  },
  {
   "cell_type": "code",
   "execution_count": null,
   "metadata": {},
   "outputs": [],
   "source": []
  }
 ],
 "metadata": {
  "kernelspec": {
   "display_name": "base",
   "language": "python",
   "name": "python3"
  },
  "language_info": {
   "codemirror_mode": {
    "name": "ipython",
    "version": 3
   },
   "file_extension": ".py",
   "mimetype": "text/x-python",
   "name": "python",
   "nbconvert_exporter": "python",
   "pygments_lexer": "ipython3",
   "version": "3.11.4"
  }
 },
 "nbformat": 4,
 "nbformat_minor": 2
}
