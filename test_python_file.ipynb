{
 "cells": [
  {
   "cell_type": "code",
   "execution_count": 8,
   "metadata": {},
   "outputs": [
    {
     "name": "stdout",
     "output_type": "stream",
     "text": [
      "['0\\t40\\t50\\t0\\t0\\t1236\\t0\\n', '1\\t40\\t69\\t20\\t482\\t842\\t90\\n', '2\\t40\\t66\\t20\\t18\\t378\\t90\\n', '3\\t38\\t68\\t20\\t110\\t470\\t90\\n', '4\\t38\\t70\\t10\\t390\\t750\\t90\\n', '5\\t25\\t85\\t20\\t507\\t867\\t90\\n', '6\\t22\\t75\\t30\\t30\\t390\\t90\\n', '7\\t22\\t85\\t10\\t414\\t774\\t90\\n', '8\\t25\\t50\\t10\\t15\\t375\\t90\\n', '9\\t25\\t52\\t40\\t17\\t377\\t90\\n', '10\\t25\\t55\\t10\\t482\\t842\\t90\\n', '11\\t23\\t52\\t10\\t109\\t469\\t90\\n', '12\\t23\\t55\\t20\\t390\\t750\\t90\\n', '13\\t26\\t32\\t10\\t668\\t1028\\t90\\n', '14\\t25\\t30\\t10\\t576\\t936\\t90\\n', '15\\t25\\t35\\t10\\t761\\t1121\\t90\\n', '16\\t40\\t5\\t30\\t231\\t591\\t90\\n', '17\\t40\\t15\\t40\\t35\\t395\\t90\\n', '18\\t38\\t5\\t30\\t323\\t683\\t90\\n', '19\\t38\\t15\\t10\\t516\\t876\\t90']\n",
      "[[   0   40   50    0    0 1236    0]\n",
      " [   1   40   69   20  482  842   90]\n",
      " [   2   40   66   20   18  378   90]\n",
      " [   3   38   68   20  110  470   90]\n",
      " [   4   38   70   10  390  750   90]\n",
      " [   5   25   85   20  507  867   90]\n",
      " [   6   22   75   30   30  390   90]\n",
      " [   7   22   85   10  414  774   90]\n",
      " [   8   25   50   10   15  375   90]\n",
      " [   9   25   52   40   17  377   90]\n",
      " [  10   25   55   10  482  842   90]\n",
      " [  11   23   52   10  109  469   90]\n",
      " [  12   23   55   20  390  750   90]\n",
      " [  13   26   32   10  668 1028   90]\n",
      " [  14   25   30   10  576  936   90]\n",
      " [  15   25   35   10  761 1121   90]\n",
      " [  16   40    5   30  231  591   90]\n",
      " [  17   40   15   40   35  395   90]\n",
      " [  18   38    5   30  323  683   90]\n",
      " [  19   38   15   10  516  876   90]]\n"
     ]
    }
   ],
   "source": [
    "\n",
    "import gurobipy as gp\n",
    "from gurobipy import *\n",
    "import numpy as np\n",
    "import math\n",
    "import copy\n",
    "import pandas as pd\n",
    "import matplotlib.pyplot as plt\n",
    "\n",
    "# Model\n",
    "file_path = \"data_small.txt\"\n",
    "with open(file_path, \"r\") as f:  # Read the data file\n",
    "    data = f.readlines()\n",
    "\n",
    "print(data)\n",
    "\n",
    "VRP = []                                    # Create array for data related to nodes\n",
    "i=0                                         # to keep track of lines in data file\n",
    "for line in data:\n",
    "    i=i+1\n",
    "    words = line.split()\n",
    "    words=[int(i) for i in words]           # Covert data from string to integer\n",
    "    VRP.append(words)                       # Store node data\n",
    "VRP = np.array(VRP)\n",
    "\n",
    "print(VRP)\n",
    "\n",
    "\n"
   ]
  },
  {
   "cell_type": "code",
   "execution_count": null,
   "metadata": {},
   "outputs": [],
   "source": []
  }
 ],
 "metadata": {
  "kernelspec": {
   "display_name": "base",
   "language": "python",
   "name": "python3"
  },
  "language_info": {
   "codemirror_mode": {
    "name": "ipython",
    "version": 3
   },
   "file_extension": ".py",
   "mimetype": "text/x-python",
   "name": "python",
   "nbconvert_exporter": "python",
   "pygments_lexer": "ipython3",
   "version": "3.11.4"
  }
 },
 "nbformat": 4,
 "nbformat_minor": 2
}
